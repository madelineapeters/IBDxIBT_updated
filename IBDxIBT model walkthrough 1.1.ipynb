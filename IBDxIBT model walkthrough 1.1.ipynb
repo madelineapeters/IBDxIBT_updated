{
 "cells": [
  {
   "cell_type": "markdown",
   "metadata": {},
   "source": [
    "# Model walk-through"
   ]
  },
  {
   "cell_type": "markdown",
   "metadata": {},
   "source": [
    "### Load required packages"
   ]
  },
  {
   "cell_type": "code",
   "execution_count": 1,
   "metadata": {},
   "outputs": [
    {
     "name": "stderr",
     "output_type": "stream",
     "text": [
      "Warning message:\n",
      "\"package 'dplyr' was built under R version 3.3.3\"\n",
      "Attaching package: 'dplyr'\n",
      "\n",
      "The following object is masked _by_ '.GlobalEnv':\n",
      "\n",
      "    count\n",
      "\n",
      "The following objects are masked from 'package:stats':\n",
      "\n",
      "    filter, lag\n",
      "\n",
      "The following objects are masked from 'package:base':\n",
      "\n",
      "    intersect, setdiff, setequal, union\n",
      "\n"
     ]
    }
   ],
   "source": [
    "library(dplyr)"
   ]
  },
  {
   "cell_type": "markdown",
   "metadata": {},
   "source": [
    "### Create and set directory for saved files"
   ]
  },
  {
   "cell_type": "code",
   "execution_count": null,
   "metadata": {
    "collapsed": true
   },
   "outputs": [],
   "source": [
    "dir.create(path=paste(getwd(), paste(\"para_set\", para_set, sep=\"_\"), paste(\"model_run\", r, sep=\"_\"), sep=\"/\"), recursive=T)\n",
    "#directory is created using the para_set number read in from the parameter script and parameters csv and the model_run number from the commander script\n",
    "\n",
    "setwd(paste(getwd(), paste(\"para_set\", para_set, sep=\"_\"), paste(\"model_run\", r, sep=\"_\"), sep=\"/\"))\n",
    "#directory is set relative to the current working directory, which is set in the commander script"
   ]
  },
  {
   "cell_type": "markdown",
   "metadata": {},
   "source": [
    "### A blank dataframe is created to hold one value per generation and column names are provided"
   ]
  },
  {
   "cell_type": "code",
   "execution_count": null,
   "metadata": {
    "collapsed": true
   },
   "outputs": [],
   "source": [
    "output<-as.data.frame(matrix(nrow=no_gen, ncol=11))\n",
    "#no_gen is taken from the parameters script\n",
    "names(output)<-c(\"gen\",\"FTmean\",\"FTvar\",\"FTh2\",\"IBmean\",\"pA\",\"pB\",\"pC\",\"FisA\",\"FisB\",\"FisC\")"
   ]
  },
  {
   "cell_type": "markdown",
   "metadata": {},
   "source": [
    "### A blank dataframe is made to hold information about genetic neighbourhood size"
   ]
  },
  {
   "cell_type": "code",
   "execution_count": null,
   "metadata": {
    "collapsed": true
   },
   "outputs": [],
   "source": [
    "sum.N<-as.data.frame(matrix(nrow=no_gen, ncol=3))"
   ]
  },
  {
   "cell_type": "markdown",
   "metadata": {},
   "source": [
    "## The parental generation is created"
   ]
  },
  {
   "cell_type": "markdown",
   "metadata": {},
   "source": [
    "### Step 1) Create a table to hold parental information"
   ]
  },
  {
   "cell_type": "code",
   "execution_count": null,
   "metadata": {
    "collapsed": true
   },
   "outputs": [],
   "source": [
    "parents<-as.data.frame(matrix(nrow=pop_size, ncol=(10+2*FT_loci)+4+2*neut_loci))\n",
    "#2 columns are needed for each locus so that each allele per locus can be stored\n",
    "\n",
    "names(parents)[1:10]<-c(\"Mother\",\"Father\",\"IB_coef\",\"FLday\",\"A1\",\"A2\",\"B1\",\"B2\",\"C1\",\"C2\")\n",
    "#A, B and C are three additional neutral loci used primarily for heatmap purposes\n",
    "#A can also be set to be under selection using the parameter .csv\n",
    "\n",
    "for (n in 1:FT_loci)\n",
    "{\n",
    "  names(parents)[11+2*(n-1)]<-paste(\"loc\",n,\"a\",sep=\"\")\n",
    "  names(parents)[12+2*(n-1)]<-paste(\"loc\",n,\"b\",sep=\"\")\n",
    "}\n",
    "\n",
    "names(parents)[(ncol(parents)-3): ncol(parents)]<-c(\"FTnoise\",\"position\",\"X_pos\",\"Y_pos\")\n",
    "for (j in 1:neut_loci)\n",
    "{\n",
    "  names(parents)[11+(2*FT_loci)+(2*(j-1))]<-paste(\"neut\",j,\"a\",sep=\"\")\n",
    "  names(parents)[12+(2*FT_loci)+(2*(j-1))]<-paste(\"neut\",j,\"b\",sep=\"\")\n",
    "}\n",
    "\n",
    "#name assignments are set up so column positions are relative to the number of neutral loci specified"
   ]
  },
  {
   "cell_type": "markdown",
   "metadata": {},
   "source": [
    "### Step 2) Generate flowering time onsets"
   ]
  },
  {
   "cell_type": "markdown",
   "metadata": {},
   "source": [
    "#### 2a) Give each individual its flowering time genotype (2 alleles)"
   ]
  },
  {
   "cell_type": "code",
   "execution_count": null,
   "metadata": {
    "collapsed": true
   },
   "outputs": [],
   "source": [
    "for (n in 1:FT_loci){\n",
    "  parents[,11+2*(n-1)]<-sample(FT_alleles, size=pop_size, replace=T)\n",
    "  parents[,12+2*(n-1)]<-sample(FT_alleles, size=pop_size, replace=T)\n",
    "}\n",
    "\n",
    "#potential alleles are drawn from FT_alleles, which are specified in the parameters script\n",
    "#to compare to neutral loci, best to make each FT locus biallelic"
   ]
  },
  {
   "cell_type": "markdown",
   "metadata": {},
   "source": [
    "#### 2b) Add environmental variance to flowering time"
   ]
  },
  {
   "cell_type": "code",
   "execution_count": null,
   "metadata": {
    "collapsed": true
   },
   "outputs": [],
   "source": [
    "parents$FTnoise<-rnorm(n=pop_size, mean=0, sd=fl_noise)"
   ]
  },
  {
   "cell_type": "markdown",
   "metadata": {},
   "source": [
    "#### 2c) Add genetic and environmental components to a positive baseline (mean flowering day) to get individual flowering days"
   ]
  },
  {
   "cell_type": "code",
   "execution_count": null,
   "metadata": {
    "collapsed": true
   },
   "outputs": [],
   "source": [
    "parents$FLday<-floor(fl_mean + rowSums(parents[,11:(10+2*FT_loci)])+parents$FTnoise)"
   ]
  },
  {
   "cell_type": "markdown",
   "metadata": {},
   "source": [
    "### Step 3) Assign genotypes at neutral loci"
   ]
  },
  {
   "cell_type": "markdown",
   "metadata": {},
   "source": [
    "#### 3a) Give each individual a genotype at the A, B and C loci"
   ]
  },
  {
   "cell_type": "code",
   "execution_count": null,
   "metadata": {
    "collapsed": true
   },
   "outputs": [],
   "source": [
    "parents$A1<-sample(c(\"A\",\"a\"), size=pop_size, prob=c(freqA, 1-freqA), replace=T)\n",
    "parents$A2<-sample(c(\"A\",\"a\"), size=pop_size, prob=c(freqA, 1-freqA), replace=T)\n",
    "\n",
    "parents$B1<-sample(c(\"B\",\"b\"), size=pop_size, prob=c(freqB, 1-freqB), replace=T)\n",
    "parents$B2<-sample(c(\"B\",\"b\"), size=pop_size, prob=c(freqB, 1-freqB), replace=T)\n",
    "\n",
    "parents$C1<-sample(c(\"C\",\"c\"), size=pop_size, prob=c(freqC, 1-freqC), replace=T)\n",
    "parents$C2<-sample(c(\"C\",\"c\"), size=pop_size, prob=c(freqC, 1-freqC), replace=T)\n",
    "\n",
    "#starts population at HWE\n",
    "#allele frequencies are typically starting at 0.5 (can be adjusted to alter starting conditions)"
   ]
  },
  {
   "cell_type": "markdown",
   "metadata": {},
   "source": [
    "#### 3b) Give each individual a genotype at its remaining neutral loci"
   ]
  },
  {
   "cell_type": "code",
   "execution_count": null,
   "metadata": {
    "collapsed": true
   },
   "outputs": [],
   "source": [
    "freqD<-0.5\n",
    "\n",
    "for (j in 1:neut_loci)\n",
    "    {\n",
    "      parents[,11+(2*FT_loci)+(2*(j-1))]<-sample(c(\"D\",\"d\"), size=pop_size, prob=c(freqD, 1-freqD), replace=T)\n",
    "      parents[,12+(2*FT_loci)+(2*(j-1))]<-sample(c(\"D\",\"d\"), size=pop_size, prob=c(freqD, 1-freqD), replace=T)\n",
    "    }"
   ]
  },
  {
   "cell_type": "markdown",
   "metadata": {},
   "source": [
    "### Step 4) Give each individual a position in space"
   ]
  },
  {
   "cell_type": "markdown",
   "metadata": {},
   "source": [
    "#### 4a) From matrix of available positions in space, develop list of positions from which to sample"
   ]
  },
  {
   "cell_type": "code",
   "execution_count": null,
   "metadata": {
    "collapsed": true
   },
   "outputs": [],
   "source": [
    "for (y in 1:ncol(space_20by20_sq_grid)) {\n",
    "    if (y == 1) {\n",
    "        pos_vector<-c(as.character(space_20by20_sq_grid[,y]))\n",
    "    } else {\n",
    "        pos_vector<-c(pos_vector, as.character(space_20by20_sq_grid[,y]))\n",
    "    }\n",
    "}"
   ]
  },
  {
   "cell_type": "markdown",
   "metadata": {},
   "source": [
    "#### 4b) Give everyone a position from the set of possible positions, and then extract x and y coordinates"
   ]
  },
  {
   "cell_type": "code",
   "execution_count": null,
   "metadata": {
    "collapsed": true
   },
   "outputs": [],
   "source": [
    "parents$position<-(pos_vector)\n",
    "parents$X_pos<-sapply(X=parents$position, FUN=function(X) {\n",
    "  as.numeric(strsplit(X, split=\",\")[[1]][1])\n",
    "})\n",
    "parents$Y_pos<-sapply(X=parents$position, FUN=function(X) {\n",
    "  as.numeric(strsplit(X, split=\",\")[[1]][2])\n",
    "})\n",
    "\n",
    "#sapply takes each item in the dataframe and performs the function on it individually (avoids looping)\n",
    "#strsplit takes each item in the parents$position column, splits it at the comma and returns the first item if [[1]][1] ro second if [[1]][2]\n",
    "#the output of strsplit is then assigned to new columns as the X and Y positions"
   ]
  },
  {
   "cell_type": "markdown",
   "metadata": {},
   "source": [
    "### Step 5) Calculate coancestry and inbreeding coefficients of parents"
   ]
  },
  {
   "cell_type": "markdown",
   "metadata": {},
   "source": [
    "#### 5a) Create coancestry matrix"
   ]
  },
  {
   "cell_type": "code",
   "execution_count": null,
   "metadata": {
    "collapsed": true
   },
   "outputs": [],
   "source": [
    "coancestry_p<-matrix(nrow=pop_size, ncol=pop_size)"
   ]
  },
  {
   "cell_type": "markdown",
   "metadata": {},
   "source": [
    "#### 5b) Set coancestry values (all 0 except along diagonal which is 0.5)"
   ]
  },
  {
   "cell_type": "code",
   "execution_count": null,
   "metadata": {
    "collapsed": true
   },
   "outputs": [],
   "source": [
    "coancestry_p[,]<-0\n",
    "for (i in 1:pop_size) {\n",
    "  coancestry_p[i,i]<-0.5\n",
    "}"
   ]
  },
  {
   "cell_type": "markdown",
   "metadata": {},
   "source": [
    "#### 5c) Set inbreeding coefficient as zero because it's generation 1"
   ]
  },
  {
   "cell_type": "code",
   "execution_count": null,
   "metadata": {
    "collapsed": true
   },
   "outputs": [],
   "source": [
    "parents$IB_coef<-0"
   ]
  },
  {
   "cell_type": "markdown",
   "metadata": {},
   "source": [
    "## Run offspring generations (2 through no_gen)"
   ]
  },
  {
   "cell_type": "markdown",
   "metadata": {},
   "source": [
    "##### Start loop over generations; silenced in this walk-through because the code inside the loop is interrupted by annotations"
   ]
  },
  {
   "cell_type": "code",
   "execution_count": null,
   "metadata": {
    "collapsed": true
   },
   "outputs": [],
   "source": [
    "for (g in 1:no_gen) {"
   ]
  },
  {
   "cell_type": "markdown",
   "metadata": {},
   "source": [
    "### Step 1) Store generation g conditions into the output table (one value per gen)"
   ]
  },
  {
   "cell_type": "code",
   "execution_count": null,
   "metadata": {
    "collapsed": true
   },
   "outputs": [],
   "source": [
    "output$gen[g]<-g\n",
    "output$FTmean[g]<-mean(parents$FLday)\n",
    "output$FTvar[g]<-var(parents$FLday)\n",
    "output$FTh2[g]<-var(rowSums(parents[,11:(10+2*FT_loci)]))/var(parents$FLday)\n",
    "output$IBmean[g]<-mean(parents$IB_coef)\n",
    "output$pA[g]<-length(which(c(parents$A1, parents$A2)==\"A\"))/(2*pop_size)\n",
    "output$pB[g]<-length(which(c(parents$B1, parents$B2)==\"B\"))/(2*pop_size)\n",
    "output$pC[g]<-length(which(c(parents$C1, parents$C2)==\"C\"))/(2*pop_size)\n",
    "\n",
    "output$FisA[g]<-((2*output$pA[g]*(1-output$pA[g])) - (length(which(Ageno_tab[,g]==\"aA\"))/pop_size))/(2*output$pA[g]*(1-output$pA[g]))\n",
    "output$FisB[g]<-((2*output$pB[g]*(1-output$pB[g])) - (length(which(Bgeno_tab[,g]==\"bB\"))/pop_size))/(2*output$pB[g]*(1-output$pB[g]))\n",
    "output$FisC[g]<-((2*output$pC[g]*(1-output$pC[g])) - (length(which(Cgeno_tab[,g]==\"cC\"))/pop_size))/(2*output$pC[g]*(1-output$pC[g]))"
   ]
  },
  {
   "cell_type": "markdown",
   "metadata": {},
   "source": [
    "### Step 2) Fill in flowering schedule"
   ]
  },
  {
   "cell_type": "markdown",
   "metadata": {},
   "source": [
    "#### 2a) Set days of flowering schedule"
   ]
  },
  {
   "cell_type": "code",
   "execution_count": null,
   "metadata": {
    "collapsed": true
   },
   "outputs": [],
   "source": [
    "days<-c(min(parents$FLday):(max(parents$FLday)+(duration-1)))"
   ]
  },
  {
   "cell_type": "markdown",
   "metadata": {},
   "source": [
    "#### 2b) Fill in flowering schedule using parental generation abundances"
   ]
  },
  {
   "cell_type": "code",
   "execution_count": null,
   "metadata": {
    "collapsed": true
   },
   "outputs": [],
   "source": [
    "flowers<-as.data.frame(matrix(nrow=pop_size, ncol=length(days)))\n",
    "#flowers matrix is as wide as there are days in the flowering season, so an individual's flowers on each day are recorded\n",
    "names(flowers)<-paste(\"d\", days, sep=\"\")\n",
    "\n",
    "for (i in 1:pop_size){\n",
    "    flowers[i, which(days==parents$FLday[i]):(which(days==parents$FLday[i])+duration-1)]<-fl_seq\n",
    "} #applies flowering schedule from parameters script to this range of days for an individual\n",
    "\n",
    "flowers[is.na(flowers)]<-0 #removes NA days"
   ]
  },
  {
   "cell_type": "markdown",
   "metadata": {},
   "source": [
    "#### 2c) Account for inbreeding depression is applicable"
   ]
  },
  {
   "cell_type": "code",
   "execution_count": null,
   "metadata": {
    "collapsed": true
   },
   "outputs": [],
   "source": [
    "if (LA_inbreeding_flowers == \"yes\") {\n",
    "    for (i in 1:nrow(flowers)){\n",
    "      flowers[i,]<-flowers[i,]*(fl_ID_weight)*(1-parents$ID_coef[i])\n",
    "    }\n",
    "}\n",
    "#lowers fitness of individuals if they are inbred by lowering their flower output"
   ]
  },
  {
   "cell_type": "markdown",
   "metadata": {},
   "source": [
    "### Step 3) Create mating opportunity matrix based on phenology"
   ]
  },
  {
   "cell_type": "code",
   "execution_count": null,
   "metadata": {
    "collapsed": true
   },
   "outputs": [],
   "source": [
    "if (phenology== \"yes\") {\n",
    "    #Set maternal matrix as the proportion of flowers made by a single individual relative to those made by the total population (both over entire season)\n",
    "    mat<-as.matrix(flowers/sum(flowers))\n",
    "    #dimensions are pop_size x length(days)\n",
    "    #mat flower adjusted for total flowers made by the whole population over the entire flowering season\n",
    "\n",
    "    #Set paternal matrix as the proportion of flowers made by a single individual relative to the entire population\n",
    "    pat<-matrix(nrow=pop_size, ncol=length(days))\n",
    "\n",
    "    #pat flower are adjusted for other flowers open on each day of an individual's flowering peiod\n",
    "    for (t in 1:ncol(pat))\t{\t\n",
    "      pat[,t]<-flowers[,t]/sum(flowers[,t])\n",
    "    }\n",
    "    #t is a day in the flowering season, because the columns in flower are days\n",
    "\n",
    "    #Fix pat matrix to deal with days where NO flowers are produced in the population (this removes NaN)\n",
    "    if (any(colSums(flowers)==0)){\n",
    "      pat[,which(colSums(flowers)==0)]<-0\n",
    "    }\n",
    "\n",
    "    #Place moms as rows and dads as columns\n",
    "    mat_opp<-mat %*% t(pat)\n",
    "\n",
    "} else if (phenology==\"no\") {\n",
    "    mat_opp<-matrix(nrow=pop_size, ncol=pop_size)\n",
    "    mat_opp[,]<-1/(pop_size^2)\n",
    "} #if phenology is not affecting mating probabilities, then everyone has equal opportunity so prob for individuals i and j is just 1/n"
   ]
  },
  {
   "cell_type": "markdown",
   "metadata": {},
   "source": [
    "### Step 4) Develop a compatibility matrix bsed on self-incompatibility alleles"
   ]
  },
  {
   "cell_type": "code",
   "execution_count": null,
   "metadata": {
    "collapsed": true
   },
   "outputs": [],
   "source": [
    "if (compatibility == \"yes\") {\n",
    "    S_allele_matching<-matrix(nrow=pop_size, ncol=pop_size)\n",
    "    for (m in 1:pop_size) {\n",
    "        for (p in 1:pop_size) {\n",
    "            S_allele_matching[m, p]<- if (m == p) {0} else if (m != p) {1}\n",
    "        } #assuming an infinite number of SI alleles, such that selfing cannot occur but individual i can mate with any other individual in the population (technically)\n",
    "    }\n",
    "} else if (compatibility==\"no\") {\n",
    "    S_allele_matching<-matrix(nrow=pop_size, ncol=pop_size)\n",
    "    S_allele_matching[,]<-1\n",
    "} #if SI is not included, then everyone just gets a 1"
   ]
  },
  {
   "cell_type": "markdown",
   "metadata": {},
   "source": [
    "### Step 5) Recalibrate the mating opportunity matrix to account for self-incompatibility"
   ]
  },
  {
   "cell_type": "code",
   "execution_count": null,
   "metadata": {
    "collapsed": true
   },
   "outputs": [],
   "source": [
    "mat_opp_adj<-mat_opp * S_allele_matching\n",
    "\n",
    "#Re-adjust everything so that matrix sums to 1 (these need to be probability matrices)\n",
    "mat_opp_adj<-mat_opp_adj/sum(mat_opp_adj)"
   ]
  },
  {
   "cell_type": "markdown",
   "metadata": {},
   "source": [
    "### Step 6) Develop pairwise geographic space matrix and run through pollen dispersal function"
   ]
  },
  {
   "cell_type": "code",
   "execution_count": null,
   "metadata": {
    "collapsed": true
   },
   "outputs": [],
   "source": [
    "if (torus == \"no\") { #a torus is used to minimise edge effects; however, not biologically realistic\n",
    "  distance1<-matrix(nrow=pop_size, ncol=pop_size)\n",
    "  distance2<-matrix(nrow=pop_size, ncol=pop_size)\n",
    "    \n",
    "  for (m in 1:pop_size) {\n",
    "    for (p in 1:pop_size) {\n",
    "      distance1[m,p]<-sqrt((parents$X_pos[m]-parents$X_pos[p])^2 + (parents$Y_pos[m] - parents$Y_pos[p])^2)\t\n",
    "    } #distance is just the Euclidean distance between two points\n",
    "  }\n",
    "  distance1<-distance1*m_per_unit\n",
    "  distance2[,]<-0 #when not on a torus, distance is not considered in the second direction\n",
    "\n",
    "  #6a1) Run through pollen dispersal function\n",
    "  if (space_pollen==\"yes\"){ #does pollen have limited dispersal?\n",
    "    distance_for_mating1<-distance1\n",
    "    distance_for_mating2<-distance2\n",
    "  } else if (space_pollen==\"no\") {\n",
    "    distance_for_mating1<-matrix(nrow=pop_size, ncol=pop_size)\n",
    "    distance_for_mating2<-matrix(nrow=pop_size, ncol=pop_size)\n",
    "    distance_for_mating1[,]<-1\n",
    "    distance_for_mating2[,]<-0\n",
    "  }\n",
    "\n",
    "  pollen_dispersal1<-(exp(-(seed_lambda*distance_for_mating1))) #if space_pollen is no, everyone gets the same value\n",
    "  pollen_dispersal2<-0 #everyone gets the same value here as well\n",
    "\n",
    "} else if (torus == \"yes\") {\n",
    "    distance1<-matrix(nrow=pop_size, ncol=pop_size)\n",
    "    distance2<-matrix(nrow=pop_size, ncol=pop_size)\n",
    "    for (m in 1:pop_size) {\n",
    "        for (p in 1:pop_size) {\n",
    "            distance1[m,p]<-sqrt((parents$X_pos[m]-parents$X_pos[p])^2 + (parents$Y_pos[m] - parents$Y_pos[p])^2)\n",
    "            distance2[m,p]<-sqrt(((sqrt(pop_size)+1)-abs(parents$X_pos[m]-parents$X_pos[p]))^2 + ((sqrt(pop_size)+1)-abs(parents$Y_pos[m]-parents$Y_pos[p]))^2)\n",
    "        } #the second distance is between the same two points but 'wraps' around the other side of the grid\n",
    "    }\n",
    "    distance1<-distance1*m_per_unit #distance is adjusted by spacing between individuals\n",
    "    distance2<-distance2*m_per_unit\n",
    "\n",
    "    #6a1) Run through pollen dispersal function\n",
    "    if (space_pollen==\"yes\"){\n",
    "        distance_for_mating1<-distance1\n",
    "        distance_for_mating2<-distance2\n",
    "    } else if (space_pollen==\"no\") {\n",
    "        distance_for_mating1<-matrix(nrow=pop_size, ncol=pop_size)\n",
    "        distance_for_mating1[,]<-1\n",
    "        distance_for_mating2<-matrix(nrow=pop_size, ncol=pop_size)\n",
    "        distance_for_mating2[,]<-1\n",
    "    }\n",
    "    pollen_dispersal1<-(exp(-(seed_lambda*distance_for_mating1)))\n",
    "    pollen_dispersal2<-(exp(-(seed_lambda*distance_for_mating2)))\n",
    "} #end of if torus \"yes\""
   ]
  },
  {
   "cell_type": "markdown",
   "metadata": {},
   "source": [
    "### Step 7) Recalibrate mating opportunity matrix to account for space"
   ]
  },
  {
   "cell_type": "code",
   "execution_count": null,
   "metadata": {
    "collapsed": true
   },
   "outputs": [],
   "source": [
    "mat_opp_adj2<-mat_opp_adj * (pollen_dispersal1 + pollen_dispersal2) #because pollen can be dispersed in either direction 1 OR direction 2, the probabilities are additive\n",
    "mat_opp_adj2<-mat_opp_adj2/sum(mat_opp_adj2) #readjusts the matrix to a probability"
   ]
  },
  {
   "cell_type": "markdown",
   "metadata": {},
   "source": [
    "### Step 8) Calculate relative fitness based on the A locus and flowering time"
   ]
  },
  {
   "cell_type": "code",
   "execution_count": null,
   "metadata": {
    "collapsed": true
   },
   "outputs": [],
   "source": [
    "parents$zFLday<-(parents$FLday-mean(parents$FLday))/sd(parents$FLday) #deviation from mean flowering day\n",
    "parents$fitness<-NA\n",
    "for (i in 1:pop_size){\n",
    "    genotype<-paste(parents$A1[i], parents$A2[i], sep=\"\") \n",
    "    parents$fitness[i]<-if (genotype==\"aa\") {\n",
    "        1 + selection_aa*parents$zFLday[i] } else if (genotype==\"AA\"){1 + selection_AA*parents$zFLday[i]} else {1 + selection_Aa*parents$zFLday[i]}\n",
    "} #sets fitness as values around 1 based on A locus and in what direction of the mean flowering day the individual sits (will be relative because z is calulated relative to population)"
   ]
  },
  {
   "cell_type": "markdown",
   "metadata": {},
   "source": [
    "#### 8a) Correct for fitness values that are negative"
   ]
  },
  {
   "cell_type": "code",
   "execution_count": null,
   "metadata": {
    "collapsed": true
   },
   "outputs": [],
   "source": [
    "parents$fitness[which(parents$fitness<0)]<-0"
   ]
  },
  {
   "cell_type": "markdown",
   "metadata": {},
   "source": [
    "#### 8b) Adjust fitness according to inbreeding"
   ]
  },
  {
   "cell_type": "code",
   "execution_count": null,
   "metadata": {
    "collapsed": true
   },
   "outputs": [],
   "source": [
    "if (LA_inbreeding_fecundity == \"yes\") {\n",
    "    parents$fitness<-parents$fitness * (1-parents$IB_coef)\n",
    "}"
   ]
  },
  {
   "cell_type": "markdown",
   "metadata": {},
   "source": [
    "### Step 9) Generation offspring\n",
    "##### The probability of choosing a given mom depends on her fitness and her distance from the xy position being filled\n",
    "##### The dad's identity depends on the adjusted mating matrix\n",
    "##### If a chosen mom has no available crosses, another mom is chosen"
   ]
  },
  {
   "cell_type": "markdown",
   "metadata": {},
   "source": [
    "#### 9a) Create offfspring dataframe and set column names"
   ]
  },
  {
   "cell_type": "code",
   "execution_count": null,
   "metadata": {
    "collapsed": true
   },
   "outputs": [],
   "source": [
    "offspring<-as.data.frame(matrix(nrow=pop_size, ncol=ncol(parents)))\n",
    "names(offspring)<-names(parents)"
   ]
  },
  {
   "cell_type": "markdown",
   "metadata": {},
   "source": [
    "#### 9b) Designate spatial locations, assuming each space will be occupied by a single offspring"
   ]
  },
  {
   "cell_type": "code",
   "execution_count": null,
   "metadata": {
    "collapsed": true
   },
   "outputs": [],
   "source": [
    "offspring$position<-parents$position\n",
    "offspring$X_pos<-parents$X_pos\n",
    "offspring$Y_pos<-parents$Y_pos"
   ]
  },
  {
   "cell_type": "markdown",
   "metadata": {},
   "source": [
    "#### 9c) Start loop over offspring"
   ]
  },
  {
   "cell_type": "code",
   "execution_count": 4,
   "metadata": {},
   "outputs": [
    {
     "ename": "ERROR",
     "evalue": "Error in parse(text = x, srcfile = src): <text>:98:15: unexpected symbol\n97:               effect<-sample(c(,size=1)\n98:               parent_mut\n                  ^\n",
     "output_type": "error",
     "traceback": [
      "Error in parse(text = x, srcfile = src): <text>:98:15: unexpected symbol\n97:               effect<-sample(c(,size=1)\n98:               parent_mut\n                  ^\nTraceback:\n"
     ]
    }
   ],
   "source": [
    "for (o in 1:pop_size) {\n",
    "\n",
    "    #Calculate dispersal of seeds to location of offspring[o] as a weight on relative fitness and distance\n",
    "    if (space_seed == \"yes\"){\n",
    "        seed_dispersal1<-(exp(-(seed_lambda*distance1[o,])))\n",
    "        seed_dispersal<-seed_dispersal1\n",
    "    } else if (space_seed == \"no\") {\n",
    "        seed_dispersal1<-rep(1, times=pop_size)\n",
    "        seed_dispersal<-seed_dispersal1\n",
    "    } \n",
    "    seed_dispersal<-seed_dispersal1\n",
    "    \n",
    "    if ((space_seed == \"yes\") & (torus == \"yes\")) { \n",
    "      seed_dispersal2<-(exp(-(seed_lambda*distance2[o,])))\n",
    "      seed_dispersal<-seed_dispersal1+seed_dispersal2\n",
    "    } else if ((space_seed == \"no\") & (torus == \"yes\")) {\n",
    "        seed_dispersal2<-rep(1, times=pop_size)\n",
    "        seed_dispersal<-seed_dispersal1+seed_dispersal2\n",
    "    }\n",
    "\n",
    "    #Choose a mom based on relative fitness and chance of getting a seed to the specified location\n",
    "        ##NOTE- Edge plants at an inherent disadvantage if a torus is not used.\n",
    "    mom<-sample(c(1:pop_size), size=1, prob=(parents$fitness*seed_dispersal)/sum(parents$fitness*seed_dispersal))\n",
    "\n",
    "    #If there are no sires for chosen mom, choose another mom\n",
    "    while (rowSums(mat_opp_adj2)[mom]==0) {\n",
    "        mom<-sample(c(1:pop_size), size=1, prob=(parents$fitness)/sum(parents$fitness))\n",
    "    }\n",
    "\n",
    "    #Choose sire for selected mom\n",
    "    pat_prob<-mat_opp_adj2[mom,]/rowSums(mat_opp_adj2)[mom]\n",
    "    dad<-sample(x=c(1:pop_size), size=1, prob=pat_prob)\n",
    "\n",
    "    #9b5) Record mom, dad, and inbreeding coefficient\n",
    "    offspring$Mother[o]<-mom\n",
    "    offspring$Father[o]<-dad\n",
    "    offspring$IB_coef[o]<-coancestry_p[mom,dad]\n",
    "\n",
    "    #If early acting inbreeding-depression is in place, check to see if IB_coef is below threshold\n",
    "    #If it's too high, then discard the seed and choose again\n",
    "    if (EA_inbreeding == \"yes\") {\n",
    "        while (offspring$IB_coef[o] > EA_id_threshold) {\n",
    "            #Choose a new mom\n",
    "            mom<-sample(c(1:pop_size), size=1, prob=(parents$fitness*seed_dispersal)/sum(parents$fitness*seed_dispersal))\n",
    "            #If there are no sires for chosen mom, choose another.\n",
    "            while (rowSums(mat_opp_adj2)[mom]==0) {\n",
    "                mom<-sample(c(1:pop_size), size=1, prob=(parents$fitness)/sum(parents$fitness))\n",
    "            }\n",
    "        } #close while statement regarding threshold\n",
    "    } #close if over whether early-acting ID in is place\n",
    "\n",
    "    #A-locus inhertiance (one from mom, one from dad)\n",
    "    offspring$A1[o]<-as.character(sample(x=parents[mom, 5:6], size=1))\n",
    "    offspring$A2[o]<-as.character(sample(x=parents[dad, 5:6], size=1))\n",
    "\n",
    "    #B-locus inhertiance (one from mom, one from dad)\n",
    "    offspring$B1[o]<-as.character(sample(x=parents[mom, 7:8], size=1))\n",
    "    offspring$B2[o]<-as.character(sample(x=parents[dad, 7:8], size=1))\n",
    "\n",
    "    #C-locus inhertiance (one from mom, one from dad)\n",
    "    offspring$C1[o]<-as.character(sample(x=parents[mom, 9:10], size=1))\n",
    "    offspring$C2[o]<-as.character(sample(x=parents[dad, 9:10], size=1))\n",
    "\n",
    "    #Mendellian inheritance of flowering time loci \n",
    "    for (n in 1:(FT_loci)) {\n",
    "      offspring[o,11 + 2*(n-1)]<-sample(x=parents[mom,(11+2*(n-1)):(12 + 2*(n-1))], size=1)\n",
    "      offspring[o,12 + 2*(n-1)]<-sample(x=parents[dad,(11+2*(n-1)):(12 + 2*(n-1))], size=1)\n",
    "    } #close loop over the flowering time loci\n",
    "\n",
    "    #Mutation at flowering time loci\n",
    "      if (mut == \"yes\") {\n",
    "          for (n in 1:(FT_loci)) {\n",
    "            mutation<-sample(1:(1/mut_rate), size=1) #assuming mutation rate is for flowering time loci\n",
    "            if (mutation == 1){\n",
    "              effect<-sample((-1:1),size=1)\n",
    "              parent_mut<-sample(1:2,size=1)\n",
    "              if (parent_mut == 1) {\n",
    "                  offspring[o,11+2*(n-1)]<-offspring[o,11+2*(n-1)]+effect\n",
    "              } else {\n",
    "                  offspring[o,12+2*(n-1)]<-offspring[o,12+2*(n-1)]+effect\n",
    "              }\n",
    "            }\n",
    "         }\n",
    "      }\n",
    "    \n",
    "    #Mendellian inheritance of remaining neutral loci\n",
    "    for (j in 1:(neut_loci)) {\n",
    "      offspring[o,11+(2*FT_loci)+(2*(j-1))]<-as.character(sample(x=parents[mom,(11+(2*FT_loci)+(2*(j-1))):(12+(2*FT_loci)+(2*(j-1)))], size=1))\n",
    "      offspring[o,12+(2*FT_loci)+(2*(j-1))]<-as.character(sample(x=parents[dad,(11+(2*FT_loci)+(2*(j-1))):(12+(2*FT_loci)+(2*(j-1)))], size=1))\n",
    "    } #close loop over remaining neutral loci\n",
    "    \n",
    "    #Mutation at neutral loci\n",
    "      if (mut == \"yes\") {\n",
    "          for (n in 1:(neut_loci)) {\n",
    "            mutation<-sample(1:(1/mut_rate), size=1) #assuming mutation rate is for flowering time loci\n",
    "            if (mutation == 1){\n",
    "              effect<-sample(c(\"D\",\"d\"),size=1)\n",
    "              parent_mut<-sample(1:2,size=1)\n",
    "              if (parent_mut == 1) {\n",
    "                  offspring[o,11+(2*FT_loci)+(2*(n-1))]<-effect\n",
    "              } else {\n",
    "                  offspring[o,12+(2*FT_loci)+(2*(n-1))]<-effect\n",
    "              }\n",
    "            }\n",
    "         }\n",
    "      }\n",
    "} #close loop over offspring"
   ]
  },
  {
   "cell_type": "markdown",
   "metadata": {},
   "source": [
    "#### 9d) Add environmental variance to flowering time, and sum flowering time loci columns to calculate flowering time"
   ]
  },
  {
   "cell_type": "code",
   "execution_count": null,
   "metadata": {
    "collapsed": true
   },
   "outputs": [],
   "source": [
    "offspring$FTnoise<-rnorm(n=pop_size, mean=0, sd=fl_noise)\n",
    "offspring$FLday<-floor(fl_mean + rowSums(offspring[,11:(10+2*FT_loci)]) + offspring$FTnoise) "
   ]
  },
  {
   "cell_type": "markdown",
   "metadata": {},
   "source": [
    "### Step 10) Calculate coancestry in the new generation"
   ]
  },
  {
   "cell_type": "code",
   "execution_count": null,
   "metadata": {
    "collapsed": true
   },
   "outputs": [],
   "source": [
    "coancestry_o<-matrix(nrow=pop_size, ncol=pop_size)\n",
    "\n",
    "for (i in 2:pop_size){\n",
    "    for (j in 1:(i-1)){\t\n",
    "      Mi<-offspring$Mother[i]\n",
    "      Mj<-offspring$Mother[j]\n",
    "      Fi<-offspring$Father[i]\n",
    "      Fj<-offspring$Father[j]\n",
    "\n",
    "      pathA<-(1/4)*coancestry_p[Mi, Mj]\n",
    "      pathB<-(1/4)*coancestry_p[Fi, Mj]\n",
    "      pathC<-(1/4)*coancestry_p[Mi, Fj]\n",
    "      pathD<-(1/4)*coancestry_p[Fi, Fj]\n",
    "\n",
    "      coancestry_o[i, j]<-(pathA + pathB + pathC + pathD)\n",
    "      coancestry_o[j, i]<-(pathA + pathB + pathC + pathD)\n",
    "    }\n",
    "}\n",
    "\n",
    "for (i in 1:pop_size){\n",
    "    coancestry_o[i,i]<-(1/2)*(1 + offspring$IB_coef[i])\n",
    "}"
   ]
  },
  {
   "cell_type": "markdown",
   "metadata": {},
   "source": [
    "### Step 11) Save offspring output files every 50 generations for FL day, XY position, neutral genotypes"
   ]
  },
  {
   "cell_type": "code",
   "execution_count": null,
   "metadata": {
    "collapsed": true
   },
   "outputs": [],
   "source": [
    "if ((g == 1)||(g == 50)||(g == 100)||(g == 150)||(g == 200)||(g == 250)||(g == 300)||(g == 350)||(g == 400)||(g == 450)||(g == 500)){\n",
    "\n",
    "    offspring_map<-as.data.frame(matrix(nrow=pop_size, ncol=(9+(2*FT_loci)+(2*neut_loci))))\n",
    "    names(offspring_map)[1:9]<-c(\"FLday\",\"X_pos\",\"Y_pos\",\"genotypeA\",\"mapA\",\"genotypeB\",\"mapB\",\"genotypeC\",\"mapC\")\n",
    "\n",
    "    offspring_map$FLday<-offspring$FLday\n",
    "    offspring_map$X_pos<-offspring$X_pos\n",
    "    offspring_map$Y_pos<-offspring$Y_pos\n",
    "\n",
    "    for (n in 1:FT_loci)\n",
    "    {\n",
    "      names(offspring_map)[10+2*(n-1)]<-paste(\"loc\",n,\"a\",sep=\"\")\n",
    "      names(offspring_map)[11+2*(n-1)]<-paste(\"loc\",n,\"b\",sep=\"\")\n",
    "    }\n",
    "\n",
    "    for (i in 1:pop_size){\n",
    "      for (n in 1:FT_loci)\n",
    "      {\n",
    "        offspring_map[i,(10+2*(n-1))]<-offspring[i,(11+2*(n-1))]\n",
    "        offspring_map[i,(11+2*(n-1))]<-offspring[i,(12+2*(n-1))]\n",
    "      }\n",
    "    }\n",
    "\n",
    "    for (j in 1:neut_loci)\n",
    "    {\n",
    "      names(offspring_map)[10+(2*FT_loci)+(2*(j-1))]<-paste(\"neut\",j,\"a\",sep=\"\")\n",
    "      names(offspring_map)[11+(2*FT_loci)+(2*(j-1))]<-paste(\"neut\",j,\"b\",sep=\"\")\n",
    "    }\n",
    "\n",
    "    for (i in 1:pop_size){\n",
    "      for (j in 1:neut_loci)\n",
    "      {\n",
    "        offspring_map[i,10+(2*FT_loci)+(2*(j-1))]<-offspring[i,11+(2*FT_loci)+(2*(j-1))]\n",
    "        offspring_map[i,11+(2*FT_loci)+(2*(j-1))]<-offspring[i,12+(2*FT_loci)+(2*(j-1))]\n",
    "      }\n",
    "    }\n",
    "\n",
    "    for (i in 1:pop_size){\n",
    "      offspring_map$genotypeA[i]<-paste(offspring$A1[i], offspring$A2[i], sep=\"\")\t\n",
    "      offspring_map$mapA[i]<-if (offspring_map$genotypeA[i]==\"aa\") {\n",
    "        0} else if (offspring_map$genotypeA[i]==\"AA\"){2} else {1}\n",
    "    }\n",
    "\n",
    "    for (i in 1:pop_size){\n",
    "      offspring_map$genotypeB[i]<-paste(offspring$B1[i], offspring$B2[i], sep=\"\")\t\n",
    "      offspring_map$mapB[i]<-if (offspring_map$genotypeB[i]==\"bb\") {\n",
    "        0} else if (offspring_map$genotypeB[i]==\"BB\"){2} else {1}\n",
    "    }\n",
    "\n",
    "    for (i in 1:pop_size){\n",
    "      offspring_map$genotypeC[i]<-paste(offspring$C1[i], offspring$C2[i], sep=\"\")\t\n",
    "      offspring_map$mapC[i]<-if (offspring_map$genotypeC[i]==\"cc\") {\n",
    "        0} else if (offspring_map$genotypeC[i]==\"CC\"){2} else {1}\n",
    "    }\n",
    "\n",
    "    write.csv(offspring_map, paste(\"offspring_map\", g, sep=\"_\")\n",
    "              , row.names=F)\n",
    "\n",
    "    }\n",
    "} #end loop over g if"
   ]
  },
  {
   "cell_type": "code",
   "execution_count": null,
   "metadata": {
    "collapsed": true
   },
   "outputs": [],
   "source": [
    "if ((g == 1)||(g == 50)||(g == 100)||(g == 150)||(g == 200)||(g == 250)||(g == 300)||(g == 350)||(g == 400)||(g == 450)||(g == 500)){\n",
    "\n",
    "    NH<-subset.data.frame(offspring, select=c(FLday, Mother, Father, X_pos, Y_pos, A1, A2))\n",
    "    \n",
    "    #calculate fitness to be used in calculating flowering overlap between individuals\n",
    "    if(neighbour.fitness == \"yes\") {\n",
    "        NH$zFLday<-(NH$FLday-mean(NH$FLday))/sd(NH$FLday) #deviation from mean flowering day\n",
    "        NH$fitness<-NA\n",
    "        for (i in 1:pop_size){\n",
    "            genotype<-paste(NH$A1[i], NH$A2[i], sep=\"\") \n",
    "            NH$fitness[i]<-if (genotype==\"aa\") {\n",
    "                1 + selection_aa*NH$zFLday[i] } else if (genotype==\"AA\"){1 + selection_AA*NH$zFLday[i]} else {1 + selection_Aa*NH$zFLday[i]}\n",
    "        } #sets fitness as values around 1 based on A locus and in what direction of the mean flowering day the individual sits (will be relative because z is calulated relative to population)\n",
    "    } else (NH$fitness<-1)\n",
    "\n",
    "    #fill in mom coordinates\n",
    "    for (m in 1:pop_size) {\n",
    "      mom.x<-NH$Mother[m]\n",
    "      NH$M.x[m]<-sapply(X=pos_vector[mom.x], FUN=function(X) {\n",
    "        as.numeric(strsplit(X, split=\",\")[[1]][1])\n",
    "      })\n",
    "      NH$M.y[m]<-sapply(X=pos_vector[mom.x], FUN=function(X) {\n",
    "        as.numeric(strsplit(X, split=\",\")[[1]][2])\n",
    "      })\n",
    "\n",
    "    }\n",
    "\n",
    "    #fill in dad coorindates\n",
    "    for (p in 1:pop_size) {\n",
    "      dad.x<-NH$Father[p]\n",
    "      NH$P.x[p]<-sapply(X=pos_vector[dad.x], FUN=function(X) {\n",
    "        as.numeric(strsplit(X, split=\",\")[[1]][1])\n",
    "      })\n",
    "      NH$P.y[p]<-sapply(X=pos_vector[dad.x], FUN=function(X) {\n",
    "        as.numeric(strsplit(X, split=\",\")[[1]][2])\n",
    "      })\n",
    "    }\n",
    "\n",
    "    #score selfing\n",
    "    for (k in 1:pop_size) {\n",
    "      NH$self[k]<-if (NH$Mother[k] == NH$Father[k]) {1} else if (NH$Mother[k] != NH$Father[k]) {0}\n",
    "    }\n",
    "\n",
    "    #calculate Euclidean distance between each offspring and parent\n",
    "    for (m in 1:pop_size){\n",
    "      NH$mom.dist[m]<-sqrt((NH$M.x[m]-NH$X_pos[m])^2+(NH$M.y[m]-NH$Y_pos[m])^2)\n",
    "      NH$dad.dist[m]<-sqrt((NH$P.x[m]-NH$X_pos[m])^2+(NH$P.y[m]-NH$Y_pos[m])^2)\n",
    "    }\n",
    "\n",
    "    #calculate the mean distance between offspring and parent\n",
    "    mean.dist<-sum(mean(NH$mom.dist), mean(NH$dad.dist))/2\n",
    "\n",
    "    #calculate variance of each offspring\n",
    "    NH<-mutate(NH, ind.var=(mom.dist-mean.dist)^2+(dad.dist-mean.dist)^2)\n",
    "    \n",
    "    #create list of distances between offspring and NH\n",
    "    var.list<-c(NH$mom.dist, NH$dad.dist)\n",
    "    \n",
    "    #calculate population variance\n",
    "    var<-var(var.list)\n",
    "    \n",
    "    #create list giving proportion of overlap in flowers between two individuals\n",
    "    flower.list<-fl_seq/sum(fl_sew)\n",
    "    flower.list<-cumsum(flower.list)\n",
    "\n",
    "    #randomly select 100 offspring for which to calculate neighbourhood size\n",
    "    off.samp<-sample(c(1:pop_size), size=100, replace=FALSE)\n",
    "    \n",
    "    #create dataframe to store neighbourhood size for each sampled offspring\n",
    "    off.df<-as.data.frame(matrix(nrow=100,ncol=1))\n",
    "    \n",
    "    #start loop over sampled offspring\n",
    "    for (w in off.samp){\n",
    "\n",
    "      #calculate effective density *this effective density DOES NOT include spacing in metres\n",
    "      if (phenology == \"no\") {off.df[match(c(w),off.samp),]<- 1} else if (phenology == \"yes\") {\n",
    "\n",
    "        #create dataframe\n",
    "        ind.df<-as.data.frame(matrix(nrow=1, ncol=1))\n",
    "        ind.df.t<-as.data.frame(matrix(nrow=1, ncol=1))\n",
    "          \n",
    "        #get X and Y positions for focal individual\n",
    "        a<-NH$X_pos[w]\n",
    "        b<-NH$Y_pos[w]\n",
    "          \n",
    "        #get flowering day of focal individual\n",
    "        FLday.o<-NH$FLday[w]\n",
    "          \n",
    "        #get most positive X position on neighbourhood edge\n",
    "        p.x<-round(sqrt(var))+a #round so can translate to cartesian coordinates\n",
    "        \n",
    "        #if p.x is outside the edge of the population, set as highest edge x position (sqrt(pop_size))\n",
    "        if(p.x > sqrt(pop_size)) {p.x <- sqrt(pop_size)}\n",
    "          \n",
    "        #get most negative x position on neighbourhood edge\n",
    "        n.x<-a-round(sqrt(var)) #round so can translate to cartesian coordinates\n",
    "          \n",
    "        #if n.x is outside the edge of the population, set as lowest x position (1)\n",
    "        if(n.x < 1) {n.x <- 1}\n",
    "          \n",
    "        #begin loop over range of x positions describing the genetic neighbourhood\n",
    "        for (x in n.x:p.x){\n",
    "            \n",
    "          #get most positive Y position on neighbourhood edge\n",
    "          p.y<-if (var-(x-a)^2 < 0) {b} else {round(sqrt(var-(x-a)^2))+b}\n",
    "            \n",
    "          #if p.y is outside the edge of the population, set as highest y position (sqrt(pop_size))\n",
    "          if(p.y > sqrt(pop_size)) {p.y <- sqrt(pop_size)}\n",
    "            \n",
    "          #get most negative Y position on neighbourhood edge\n",
    "          n.y <- if (var-(x-a)^2 < 0) {b} else {b-round(sqrt(var-(x-a)^2))}\n",
    "            \n",
    "          #if n.y is outside the edge of the population, set as lowest y position (1)\n",
    "          if(n.y < 1) {n.y <- 1}\n",
    "            \n",
    "          #start loop over range of y positions for a given possible x position of the genetic neighbourhood\n",
    "          for (z in n.y:p.y) {\n",
    "              \n",
    "            #find individual occupying space given by X_pos x and Y_pos z\n",
    "            NH.temp<-filter(NH, X_pos==x, Y_pos==z)\n",
    "              \n",
    "            #get number of days overlapping in flowering schedule between focal individual and NH.temp individual\n",
    "            FLday.t<-abs(NH.temp$FLday[1]-FLday.o) #paired indivdual relative flowering day\n",
    "              \n",
    "            #set up integral for overlap in flowering schedule\n",
    "            FLday.t<-abs(NH.temp$FLday[1]-FLday.o) #number of days overlapping\n",
    "            \n",
    "            #if there is overlap in flowering schedules, get proportion of total flowers produced that overlap\n",
    "            if (FLday.t <= 14) {\n",
    "                flower.over.t<-flower.list[15-FLday.t]\n",
    "            }\n",
    "             \n",
    "            #adjust proportion by fitness of paired individual\n",
    "            if(neigbour.fitness == \"yes\") {\n",
    "                flower.over.t<-flower.over.t*NH.temp$fitness\n",
    "            }\n",
    "            \n",
    "            #store proportion in dataframe describing focal individual's neighbourhood\n",
    "            ind.df.t[1,1]<-flower.over.t\n",
    "            ind.df<-bind_rows(ind.df, ind.df.t)\n",
    "              \n",
    "          } #next y position\n",
    "        } #next x position\n",
    "          \n",
    "        off.df[match(c(w),off.samp),]<-sum(ind.df[,1], na.rm=TRUE)/length(ind.df[,1])\n",
    "          \n",
    "      } #end if/else\n",
    "    } #next offspring\n",
    "\n",
    "    write.csv(off.df, paste(\"off.df.\", g, \".csv\", sep=\"\"))\n",
    "    write.csv(NH, paste(\"NH.\", g, \".csv\", sep=\"\"))\n",
    "\n",
    "    #calculate and store size of neigbourhood based on variance and average effective density\n",
    "    sum.N[g,1]<-(4*3.14*var*mean(off.df$V1, na.rm=TRUE))\n",
    "        \n",
    "    #store variance\n",
    "    sum.N[g,2]<-var\n",
    "        \n",
    "    #store effective density\n",
    "    sum.N[g,3]<-mean(off.df$V1, na.rm=TRUE)\n",
    "        \n",
    "    #store selfing rate\n",
    "    self.df[g,1]<-mean(NH$self)\n",
    "\n",
    "    #write csv files with neighbourhood and selfing information\n",
    "    write.csv(sum.N,\n",
    "              \"sum.N.csv\", row.names=F)\n",
    "    write.csv(self.df, \n",
    "              \"self.df.csv\", row.names=F)\n",
    "} #end loop over g if"
   ]
  },
  {
   "cell_type": "markdown",
   "metadata": {},
   "source": [
    "### If g is less than no_gen, set offspring as parents and repeat"
   ]
  },
  {
   "cell_type": "code",
   "execution_count": null,
   "metadata": {
    "collapsed": true
   },
   "outputs": [],
   "source": [
    "if (g<no_gen){\n",
    "    offspring->parents\n",
    "    coancestry_o->coancestry_p}\n",
    "}"
   ]
  }
 ],
 "metadata": {
  "kernelspec": {
   "display_name": "R",
   "language": "R",
   "name": "ir"
  },
  "language_info": {
   "codemirror_mode": "r",
   "file_extension": ".r",
   "mimetype": "text/x-r-source",
   "name": "R",
   "pygments_lexer": "r",
   "version": "3.3.2"
  }
 },
 "nbformat": 4,
 "nbformat_minor": 2
}
