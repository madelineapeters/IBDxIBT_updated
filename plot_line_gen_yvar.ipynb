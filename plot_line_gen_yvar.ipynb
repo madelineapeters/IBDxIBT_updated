{
 "cells": [
  {
   "cell_type": "markdown",
   "metadata": {},
   "source": [
    "#### Load in required packages"
   ]
  },
  {
   "cell_type": "code",
   "execution_count": 4,
   "metadata": {},
   "outputs": [
    {
     "name": "stderr",
     "output_type": "stream",
     "text": [
      "Warning message:\n",
      "\"package 'dplyr' was built under R version 3.3.3\"\n",
      "Attaching package: 'dplyr'\n",
      "\n",
      "The following object is masked _by_ '.GlobalEnv':\n",
      "\n",
      "    count\n",
      "\n",
      "The following objects are masked from 'package:stats':\n",
      "\n",
      "    filter, lag\n",
      "\n",
      "The following objects are masked from 'package:base':\n",
      "\n",
      "    intersect, setdiff, setequal, union\n",
      "\n",
      "Warning message:\n",
      "\"package 'tidyr' was built under R version 3.3.3\"Warning message:\n",
      "\"package 'gridExtra' was built under R version 3.3.3\"\n",
      "Attaching package: 'gridExtra'\n",
      "\n",
      "The following object is masked from 'package:dplyr':\n",
      "\n",
      "    combine\n",
      "\n",
      "\n",
      "Attaching package: 'cowplot'\n",
      "\n",
      "The following object is masked from 'package:ggplot2':\n",
      "\n",
      "    ggsave\n",
      "\n"
     ]
    }
   ],
   "source": [
    "library(dplyr)\n",
    "library(ggplot2)\n",
    "library(tidyr)\n",
    "library(gridExtra)\n",
    "library(cowplot)"
   ]
  },
  {
   "cell_type": "markdown",
   "metadata": {},
   "source": [
    "#### Set parameters"
   ]
  },
  {
   "cell_type": "code",
   "execution_count": 52,
   "metadata": {
    "collapsed": true
   },
   "outputs": [],
   "source": [
    "no_runs<-5\n",
    "FLmean<-100\n",
    "no_neutral<-10\n",
    "pop_size<-400\n",
    "no_FL<-5\n",
    "df.tocall<-\"Avg.neutral (1).csv\"\n",
    "paras<-c(54, 56, 58, 55, 57, 59)\n",
    "ylb<-\"Average variance at neutral loci\"\n",
    "xlb<-\"Generation (0-500)\"\n",
    "xlm<-c(0,500)\n",
    "ylm<-c(-0.01,0.25)\n",
    "trait<-\"IBDxIBT\" #for title of plot"
   ]
  },
  {
   "cell_type": "markdown",
   "metadata": {},
   "source": [
    "#### Make generation dataframe"
   ]
  },
  {
   "cell_type": "code",
   "execution_count": 5,
   "metadata": {
    "collapsed": true
   },
   "outputs": [],
   "source": [
    "plot.df<-as.data.frame(matrix(nrow=11, ncol=1))\n",
    "names(plot.df)<-\"gen\"\n",
    "plot.df[1:11,1]<-c(1, seq(from=50, to=500, by=50))"
   ]
  },
  {
   "cell_type": "markdown",
   "metadata": {},
   "source": [
    "#### Call in and arrange linkage dataframes"
   ]
  },
  {
   "cell_type": "code",
   "execution_count": 43,
   "metadata": {},
   "outputs": [],
   "source": [
    "rm(df.1, df.2, df.3, df.4, df.5, df.6)"
   ]
  },
  {
   "cell_type": "code",
   "execution_count": 44,
   "metadata": {},
   "outputs": [],
   "source": [
    "for (e in paras) {\n",
    "\n",
    "  #set working directory\n",
    "  start_wd<-(paste(\"C:/Users/Madeline/Desktop/Weis lab/EEB498/Updated_sets\", paste(\"para_set\", e, sep=\"_\"), sep=\"/\"))\n",
    "  setwd(start_wd)\n",
    "    \n",
    "  #ensure all dataframes are loaded into the environment\n",
    "  df.sig<-paste(\"df\", paste(match(e, paras)), sep=\".\")\n",
    "  assign(df.sig, read.csv(df.tocall, header = TRUE))\n",
    "  \n",
    "  rm(df.sig)\n",
    "  \n",
    "} #next e"
   ]
  },
  {
   "cell_type": "markdown",
   "metadata": {},
   "source": [
    "#### Arrange independent dataframes into single dataframe"
   ]
  },
  {
   "cell_type": "code",
   "execution_count": 45,
   "metadata": {},
   "outputs": [],
   "source": [
    "LD.D<-bind_cols(as.data.frame((lapply(ls(pattern = \"df.*\"), get))))  %>%  \n",
    "    select(1:length(paras))  %>% \n",
    "    bind_cols(plot.df)\n",
    "\n",
    "names(LD.D)[1:length(paras)]<-c(paste(\"P\",c(1:length(paras)),sep=\"\"))"
   ]
  },
  {
   "cell_type": "markdown",
   "metadata": {},
   "source": [
    "#### Generate ggplot"
   ]
  },
  {
   "cell_type": "code",
   "execution_count": 55,
   "metadata": {},
   "outputs": [],
   "source": [
    "LD.D.plot1<-ggplot(data=LD.D, aes(x=gen))+\n",
    "  geom_line(aes(y=P1), colour=\"darkgreen\", size=2)+\n",
    "  geom_line(aes(y=P2), colour=\"yellow\", size=2)+\n",
    "  geom_line(aes(y=P3), colour=\"darkblue\", size=2)+\n",
    "  theme(legend.position=\"top\")+\n",
    "  scale_fill_discrete(name = \"Density\",  labels = paras) +\n",
    "  labs(x=xlb, y=ylb)+\n",
    "  xlim(xlm)+ylim(ylm)+theme_classic()+\n",
    "  theme(axis.ticks = element_blank(), axis.text = element_text(size=12,face=\"bold\"),\n",
    "        axis.title.x = element_text(size = 15),\n",
    "        axis.title.y = element_text(size = 15),\n",
    "        plot.title = element_text(hjust=0.5,face=\"bold\", size=20))"
   ]
  },
  {
   "cell_type": "code",
   "execution_count": 56,
   "metadata": {},
   "outputs": [
    {
     "data": {
      "image/png": "[encoded data removed]",
      "text/plain": [
       "plot without title"
      ]
     },
     "metadata": {},
     "output_type": "display_data"
    }
   ],
   "source": [
    "plot(LD.D.plot1)"
   ]
  },
  {
   "cell_type": "code",
   "execution_count": 57,
   "metadata": {
    "collapsed": true
   },
   "outputs": [],
   "source": [
    "LD.D.plot2<-ggplot(data=LD.D, aes(x=gen))+\n",
    "  geom_line(aes(y=P4), colour=\"darkgreen\", size=2)+\n",
    "  geom_line(aes(y=P5), colour=\"yellow\", size=2)+\n",
    "  geom_line(aes(y=P6), colour=\"darkblue\", size=2)+\n",
    "  theme(legend.position=\"top\")+\n",
    "  scale_fill_discrete(name = \"Density\",  labels = paras) +\n",
    "  labs(x=xlb, y=ylb)+\n",
    "  xlim(xlm)+ylim(ylm)+theme_classic()+\n",
    "  theme(axis.ticks = element_blank(), axis.text = element_text(size=12,face=\"bold\"),\n",
    "        axis.title.x = element_text(size = 15),\n",
    "        axis.title.y = element_text(size = 15),\n",
    "        plot.title = element_text(hjust=0.5,face=\"bold\", size=20))"
   ]
  },
  {
   "cell_type": "code",
   "execution_count": 58,
   "metadata": {},
   "outputs": [
    {
     "data": {
      "image/png": "[encoded data removed]",
      "text/plain": [
       "plot without title"
      ]
     },
     "metadata": {},
     "output_type": "display_data"
    }
   ],
   "source": [
    "plot(LD.D.plot2)"
   ]
  },
  {
   "cell_type": "code",
   "execution_count": 59,
   "metadata": {},
   "outputs": [
    {
     "data": {
      "text/html": [
       "<table>\n",
       "<thead><tr><th scope=col>P1</th><th scope=col>P2</th><th scope=col>P3</th><th scope=col>P4</th><th scope=col>P5</th><th scope=col>P6</th><th scope=col>gen</th></tr></thead>\n",
       "<tbody>\n",
       "\t<tr><td>0.2491489</td><td>0.2494682</td><td>0.2495264</td><td>0.2493158</td><td>0.2493061</td><td>0.2495388</td><td>  1      </td></tr>\n",
       "\t<tr><td>0.2325941</td><td>0.2432334</td><td>0.2492543</td><td>0.2325380</td><td>0.2456288</td><td>0.2494632</td><td> 50      </td></tr>\n",
       "\t<tr><td>0.2151724</td><td>0.2369438</td><td>0.2491080</td><td>0.2189906</td><td>0.2424754</td><td>0.2493949</td><td>100      </td></tr>\n",
       "\t<tr><td>0.2025205</td><td>0.2334839</td><td>0.2490593</td><td>0.2093988</td><td>0.2413738</td><td>0.2492210</td><td>150      </td></tr>\n",
       "\t<tr><td>0.1990861</td><td>0.2342832</td><td>0.2490844</td><td>0.1926572</td><td>0.2379988</td><td>0.2491973</td><td>200      </td></tr>\n",
       "\t<tr><td>0.1854282</td><td>0.2295462</td><td>0.2490430</td><td>0.1759140</td><td>0.2337029</td><td>0.2491376</td><td>250      </td></tr>\n",
       "</tbody>\n",
       "</table>\n"
      ],
      "text/latex": [
       "\\begin{tabular}{r|lllllll}\n",
       " P1 & P2 & P3 & P4 & P5 & P6 & gen\\\\\n",
       "\\hline\n",
       "\t 0.2491489 & 0.2494682 & 0.2495264 & 0.2493158 & 0.2493061 & 0.2495388 &   1      \\\\\n",
       "\t 0.2325941 & 0.2432334 & 0.2492543 & 0.2325380 & 0.2456288 & 0.2494632 &  50      \\\\\n",
       "\t 0.2151724 & 0.2369438 & 0.2491080 & 0.2189906 & 0.2424754 & 0.2493949 & 100      \\\\\n",
       "\t 0.2025205 & 0.2334839 & 0.2490593 & 0.2093988 & 0.2413738 & 0.2492210 & 150      \\\\\n",
       "\t 0.1990861 & 0.2342832 & 0.2490844 & 0.1926572 & 0.2379988 & 0.2491973 & 200      \\\\\n",
       "\t 0.1854282 & 0.2295462 & 0.2490430 & 0.1759140 & 0.2337029 & 0.2491376 & 250      \\\\\n",
       "\\end{tabular}\n"
      ],
      "text/markdown": [
       "\n",
       "P1 | P2 | P3 | P4 | P5 | P6 | gen | \n",
       "|---|---|---|---|---|---|\n",
       "| 0.2491489 | 0.2494682 | 0.2495264 | 0.2493158 | 0.2493061 | 0.2495388 |   1       | \n",
       "| 0.2325941 | 0.2432334 | 0.2492543 | 0.2325380 | 0.2456288 | 0.2494632 |  50       | \n",
       "| 0.2151724 | 0.2369438 | 0.2491080 | 0.2189906 | 0.2424754 | 0.2493949 | 100       | \n",
       "| 0.2025205 | 0.2334839 | 0.2490593 | 0.2093988 | 0.2413738 | 0.2492210 | 150       | \n",
       "| 0.1990861 | 0.2342832 | 0.2490844 | 0.1926572 | 0.2379988 | 0.2491973 | 200       | \n",
       "| 0.1854282 | 0.2295462 | 0.2490430 | 0.1759140 | 0.2337029 | 0.2491376 | 250       | \n",
       "\n",
       "\n"
      ],
      "text/plain": [
       "  P1        P2        P3        P4        P5        P6        gen\n",
       "1 0.2491489 0.2494682 0.2495264 0.2493158 0.2493061 0.2495388   1\n",
       "2 0.2325941 0.2432334 0.2492543 0.2325380 0.2456288 0.2494632  50\n",
       "3 0.2151724 0.2369438 0.2491080 0.2189906 0.2424754 0.2493949 100\n",
       "4 0.2025205 0.2334839 0.2490593 0.2093988 0.2413738 0.2492210 150\n",
       "5 0.1990861 0.2342832 0.2490844 0.1926572 0.2379988 0.2491973 200\n",
       "6 0.1854282 0.2295462 0.2490430 0.1759140 0.2337029 0.2491376 250"
      ]
     },
     "metadata": {},
     "output_type": "display_data"
    }
   ],
   "source": [
    "head(LD.D)"
   ]
  },
  {
   "cell_type": "code",
   "execution_count": 60,
   "metadata": {},
   "outputs": [
    {
     "data": {
      "image/png": "[encoded data removed]",
      "text/plain": [
       "plot without title"
      ]
     },
     "metadata": {},
     "output_type": "display_data"
    }
   ],
   "source": [
    "comb.plot<-arrangeGrob(grid.arrange(LD.D.plot1,LD.D.plot2, nrow=1, ncol=2, widths=c(2,2)))"
   ]
  },
  {
   "cell_type": "code",
   "execution_count": 61,
   "metadata": {},
   "outputs": [
    {
     "data": {
      "image/png": "[encoded data removed]",
      "text/plain": [
       "plot without title"
      ]
     },
     "metadata": {},
     "output_type": "display_data"
    }
   ],
   "source": [
    "plot(comb.plot)"
   ]
  },
  {
   "cell_type": "code",
   "execution_count": 62,
   "metadata": {},
   "outputs": [],
   "source": [
    "ggsave(\"N var.jpeg\", plot=comb.plot, path=\"C:/Users/Madeline/Desktop/Weis lab/EEB498/Figures\", width=12, height=5)"
   ]
  },
  {
   "cell_type": "code",
   "execution_count": null,
   "metadata": {
    "collapsed": true
   },
   "outputs": [],
   "source": []
  }
 ],
 "metadata": {
  "kernelspec": {
   "display_name": "R",
   "language": "R",
   "name": "ir"
  },
  "language_info": {
   "codemirror_mode": "r",
   "file_extension": ".r",
   "mimetype": "text/x-r-source",
   "name": "R",
   "pygments_lexer": "r",
   "version": "3.3.2"
  }
 },
 "nbformat": 4,
 "nbformat_minor": 2
}
